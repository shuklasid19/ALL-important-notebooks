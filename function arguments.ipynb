{
 "cells": [
  {
   "cell_type": "code",
   "execution_count": 1,
   "metadata": {},
   "outputs": [
    {
     "name": "stdout",
     "output_type": "stream",
     "text": [
      "hello satish , good morning \n"
     ]
    }
   ],
   "source": [
    "def g(name, msg):\n",
    "    print(\"hello {0} , {1} \".format(name, msg))\n",
    "    \n",
    "g(\"satish\", \"good morning\")"
   ]
  },
  {
   "cell_type": "code",
   "execution_count": 3,
   "metadata": {},
   "outputs": [
    {
     "name": "stdout",
     "output_type": "stream",
     "text": [
      "hello satish , good morning\n"
     ]
    }
   ],
   "source": [
    "def gree(**kwargs):\n",
    "    if kwargs:\n",
    "        print(\"hello {0} , {1}\".format(kwargs['name'],\n",
    "                                      kwargs['msg']))\n",
    "\n",
    "gree(name=\"satish\", msg=\"good morning\")"
   ]
  },
  {
   "cell_type": "code",
   "execution_count": 5,
   "metadata": {},
   "outputs": [
    {
     "name": "stdout",
     "output_type": "stream",
     "text": [
      "('satish', 'murli', 'naveen', 'srikanth')\n",
      "hello , satish\n",
      "hello , murli\n",
      "hello , naveen\n",
      "hello , srikanth\n"
     ]
    }
   ],
   "source": [
    "def g(*names):\n",
    "    \"this function greets all persons in the names tuple\"\n",
    "    print(names)\n",
    "    \n",
    "    for name in names:\n",
    "        print(\"hello , {0}\".format(name))\n",
    "\n",
    "g(\"satish\", \"murli\", \"naveen\", \"srikanth\")"
   ]
  },
  {
   "cell_type": "code",
   "execution_count": 6,
   "metadata": {},
   "outputs": [],
   "source": [
    "#recursion"
   ]
  },
  {
   "cell_type": "code",
   "execution_count": 7,
   "metadata": {},
   "outputs": [
    {
     "data": {
      "text/plain": [
       "120"
      ]
     },
     "execution_count": 7,
     "metadata": {},
     "output_type": "execute_result"
    }
   ],
   "source": [
    "from functools import reduce\n",
    "\n",
    "lst = [1, 2, 3 ,4, 5]\n",
    "pd = reduce(lambda x, y:x*y, lst)\n",
    "pd"
   ]
  },
  {
   "cell_type": "code",
   "execution_count": null,
   "metadata": {},
   "outputs": [],
   "source": []
  }
 ],
 "metadata": {
  "kernelspec": {
   "display_name": "Python 3",
   "language": "python",
   "name": "python3"
  },
  "language_info": {
   "codemirror_mode": {
    "name": "ipython",
    "version": 3
   },
   "file_extension": ".py",
   "mimetype": "text/x-python",
   "name": "python",
   "nbconvert_exporter": "python",
   "pygments_lexer": "ipython3",
   "version": "3.6.6"
  }
 },
 "nbformat": 4,
 "nbformat_minor": 2
}
