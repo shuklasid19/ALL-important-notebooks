{
 "cells": [
  {
   "cell_type": "code",
   "execution_count": 3,
   "metadata": {},
   "outputs": [
    {
     "name": "stdout",
     "output_type": "stream",
     "text": [
      "product is : 12000000\n",
      "product is : 12000000\n"
     ]
    }
   ],
   "source": [
    "lst = [10,20,30,40,50 ]\n",
    "prod = 1\n",
    "index= 0\n",
    "\n",
    "while index<len(lst):\n",
    "    prod*=lst[index]\n",
    "    index+=1\n",
    "\n",
    "print(\"product is : {}\".format(prod))"
   ]
  },
  {
   "cell_type": "code",
   "execution_count": 10,
   "metadata": {},
   "outputs": [],
   "source": [
    "prod = 1"
   ]
  },
  {
   "cell_type": "code",
   "execution_count": 12,
   "metadata": {},
   "outputs": [],
   "source": [
    "prod = 1\n",
    "index = 0"
   ]
  },
  {
   "cell_type": "code",
   "execution_count": 13,
   "metadata": {},
   "outputs": [
    {
     "name": "stdout",
     "output_type": "stream",
     "text": [
      "12000000\n",
      "12000000\n"
     ]
    }
   ],
   "source": [
    "while index<len(lst):\n",
    "    prod *= lst[index]\n",
    "    index +=1\n",
    "\n",
    "print('{}'.format(prod))"
   ]
  },
  {
   "cell_type": "code",
   "execution_count": 14,
   "metadata": {},
   "outputs": [
    {
     "data": {
      "text/plain": [
       "array([10, 20, 30, 40, 50])"
      ]
     },
     "execution_count": 14,
     "metadata": {},
     "output_type": "execute_result"
    },
    {
     "data": {
      "text/plain": [
       "array([10, 20, 30, 40, 50])"
      ]
     },
     "execution_count": 14,
     "metadata": {},
     "output_type": "execute_result"
    }
   ],
   "source": [
    "import numpy as np\n",
    "np.array(lst)"
   ]
  },
  {
   "cell_type": "code",
   "execution_count": 18,
   "metadata": {},
   "outputs": [],
   "source": [
    "brop = 1"
   ]
  },
  {
   "cell_type": "code",
   "execution_count": 19,
   "metadata": {},
   "outputs": [
    {
     "name": "stdout",
     "output_type": "stream",
     "text": [
      "12000000\n",
      "12000000\n"
     ]
    }
   ],
   "source": [
    "for i in range(len(lst)):\n",
    "    brop *= lst[i]\n",
    "\n",
    "print(brop)   "
   ]
  },
  {
   "cell_type": "code",
   "execution_count": 21,
   "metadata": {},
   "outputs": [],
   "source": [
    "brop = 1"
   ]
  },
  {
   "cell_type": "code",
   "execution_count": 23,
   "metadata": {},
   "outputs": [
    {
     "name": "stdout",
     "output_type": "stream",
     "text": [
      "its the else\n",
      "its the else\n",
      "its the else\n",
      "its the else\n",
      "its the else\n",
      "144000000000000\n",
      "its the else\n",
      "its the else\n",
      "its the else\n",
      "its the else\n",
      "its the else\n",
      "144000000000000\n"
     ]
    }
   ],
   "source": [
    "for i in range(len(lst)):\n",
    "    brop *= lst[i]\n",
    "    if brop == 6000:\n",
    "        print(\"time to end\")\n",
    "    else:\n",
    "        print(\"its the else\")\n",
    "\n",
    "print(brop)   "
   ]
  },
  {
   "cell_type": "code",
   "execution_count": 28,
   "metadata": {},
   "outputs": [
    {
     "name": "stdout",
     "output_type": "stream",
     "text": [
      "5 7 9 0 4\n"
     ]
    }
   ],
   "source": [
    "numbers = [x for x in input().split()]"
   ]
  },
  {
   "cell_type": "code",
   "execution_count": 29,
   "metadata": {},
   "outputs": [
    {
     "data": {
      "text/plain": [
       "['5', '7', '9', '0', '4']"
      ]
     },
     "execution_count": 29,
     "metadata": {},
     "output_type": "execute_result"
    }
   ],
   "source": [
    "numbers"
   ]
  },
  {
   "cell_type": "code",
   "execution_count": 31,
   "metadata": {},
   "outputs": [
    {
     "name": "stdout",
     "output_type": "stream",
     "text": [
      "5\n",
      "7\n",
      "9\n",
      "0\n",
      "4\n",
      "no item\n"
     ]
    }
   ],
   "source": [
    "index = 0\n",
    "while index < len(numbers):\n",
    "    print(numbers[index])\n",
    "    index +=1\n",
    "else:\n",
    "    print(\"no item\")\n",
    "    "
   ]
  },
  {
   "cell_type": "code",
   "execution_count": 33,
   "metadata": {},
   "outputs": [
    {
     "name": "stdout",
     "output_type": "stream",
     "text": [
      "enter for loop3\n",
      "for prime4\n",
      "prime 3\n",
      "for prime5\n",
      "not a prime 3\n",
      "for prime6\n",
      "prime 3\n"
     ]
    }
   ],
   "source": [
    "num = int(input(\"enter for loop\"))\n",
    "\n",
    "for i in range(num):\n",
    "    x = int(input(\"for prime\"))\n",
    "    if x%2==0:\n",
    "        print(\"prime\", num)\n",
    "    else:\n",
    "        print(\"not a prime\", num)"
   ]
  },
  {
   "cell_type": "code",
   "execution_count": null,
   "metadata": {},
   "outputs": [],
   "source": []
  }
 ],
 "metadata": {
  "kernelspec": {
   "display_name": "Python 3",
   "language": "python",
   "name": "python3"
  },
  "language_info": {
   "codemirror_mode": {
    "name": "ipython",
    "version": 3
   },
   "file_extension": ".py",
   "mimetype": "text/x-python",
   "name": "python",
   "nbconvert_exporter": "python",
   "pygments_lexer": "ipython3",
   "version": "3.6.6"
  }
 },
 "nbformat": 4,
 "nbformat_minor": 2
}
